{
  "nbformat": 4,
  "nbformat_minor": 0,
  "metadata": {
    "colab": {
      "provenance": []
    },
    "kernelspec": {
      "name": "python3",
      "display_name": "Python 3"
    },
    "language_info": {
      "name": "python"
    }
  },
  "cells": [
    {
      "cell_type": "markdown",
      "source": [
        "**Importing The Libraries and Data Set**"
      ],
      "metadata": {
        "id": "OwNUUttsBq9v"
      }
    },
    {
      "cell_type": "code",
      "source": [
        "import numpy as np\n",
        "import pandas as pd\n",
        "from matplotlib import pyplot as plt\n"
      ],
      "metadata": {
        "id": "6PKEds5vBvuW"
      },
      "execution_count": 51,
      "outputs": []
    },
    {
      "cell_type": "markdown",
      "source": [
        "**Installing Required Version of the Numpy**"
      ],
      "metadata": {
        "id": "in8bH8utJvF6"
      }
    },
    {
      "cell_type": "code",
      "source": [
        " pip install -U numpy==1.11.0"
      ],
      "metadata": {
        "colab": {
          "base_uri": "https://localhost:8080/"
        },
        "id": "a-NKJC8zG0IC",
        "outputId": "d0a7c068-7eb2-43de-a7ff-467441ff5afb"
      },
      "execution_count": 52,
      "outputs": [
        {
          "output_type": "stream",
          "name": "stdout",
          "text": [
            "Looking in indexes: https://pypi.org/simple, https://us-python.pkg.dev/colab-wheels/public/simple/\n",
            "Collecting numpy==1.11.0\n",
            "  Using cached numpy-1.11.0.zip (4.7 MB)\n",
            "Building wheels for collected packages: numpy\n",
            "  Building wheel for numpy (setup.py) ... \u001b[?25lerror\n",
            "\u001b[31m  ERROR: Failed building wheel for numpy\u001b[0m\n",
            "\u001b[?25h  Running setup.py clean for numpy\n",
            "\u001b[31m  ERROR: Failed cleaning build dir for numpy\u001b[0m\n",
            "Failed to build numpy\n",
            "Installing collected packages: numpy\n",
            "  Attempting uninstall: numpy\n",
            "    Found existing installation: numpy 1.21.6\n",
            "    Uninstalling numpy-1.21.6:\n",
            "      Successfully uninstalled numpy-1.21.6\n",
            "    Running setup.py install for numpy ... \u001b[?25l\u001b[?25herror\n",
            "  Rolling back uninstall of numpy\n",
            "  Moving to /usr/bin/f2py\n",
            "   from /tmp/pip-uninstall-4_n_rl14/f2py\n",
            "  Moving to /usr/local/bin/f2py\n",
            "   from /tmp/pip-uninstall-qg5nhbfv/f2py\n",
            "  Moving to /usr/local/bin/f2py3\n",
            "   from /tmp/pip-uninstall-qg5nhbfv/f2py3\n",
            "  Moving to /usr/local/bin/f2py3.7\n",
            "   from /tmp/pip-uninstall-qg5nhbfv/f2py3.7\n",
            "  Moving to /usr/local/lib/python3.7/dist-packages/numpy-1.21.6.dist-info/\n",
            "   from /usr/local/lib/python3.7/dist-packages/~umpy-1.21.6.dist-info\n",
            "  Moving to /usr/local/lib/python3.7/dist-packages/numpy.libs/\n",
            "   from /usr/local/lib/python3.7/dist-packages/~umpy.libs\n",
            "  Moving to /usr/local/lib/python3.7/dist-packages/numpy/\n",
            "   from /usr/local/lib/python3.7/dist-packages/~umpy\n",
            "\u001b[31mERROR: Command errored out with exit status 1: /usr/bin/python3 -u -c 'import io, os, sys, setuptools, tokenize; sys.argv[0] = '\"'\"'/tmp/pip-install-fbqpv36r/numpy_07b9d8986d8e43adb7718a5a0afefba3/setup.py'\"'\"'; __file__='\"'\"'/tmp/pip-install-fbqpv36r/numpy_07b9d8986d8e43adb7718a5a0afefba3/setup.py'\"'\"';f = getattr(tokenize, '\"'\"'open'\"'\"', open)(__file__) if os.path.exists(__file__) else io.StringIO('\"'\"'from setuptools import setup; setup()'\"'\"');code = f.read().replace('\"'\"'\\r\\n'\"'\"', '\"'\"'\\n'\"'\"');f.close();exec(compile(code, __file__, '\"'\"'exec'\"'\"'))' install --record /tmp/pip-record-so67i_kt/install-record.txt --single-version-externally-managed --compile --install-headers /usr/local/include/python3.7/numpy Check the logs for full command output.\u001b[0m\n"
          ]
        }
      ]
    },
    {
      "cell_type": "code",
      "source": [
        "data = pd.read_csv('/content/train.csv')"
      ],
      "metadata": {
        "id": "F_bIS48ZDrKM"
      },
      "execution_count": 53,
      "outputs": []
    },
    {
      "cell_type": "markdown",
      "source": [
        "**Data Functions**"
      ],
      "metadata": {
        "id": "6XHSdlAsByan"
      }
    },
    {
      "cell_type": "code",
      "source": [
        "data = np.array(data)\n",
        "m, n = data.shape\n",
        "np.random.shuffle(data) # shuffle before splitting into dev and training sets\n",
        "\n",
        "data_dev = data[0:1000].T\n",
        "Y_dev = data_dev[0]\n",
        "X_dev = data_dev[1:n]\n",
        "X_dev = X_dev / 255.\n",
        "\n",
        "data_train = data[1000:m].T\n",
        "Y_train = data_train[0]\n",
        "X_train = data_train[1:n]\n",
        "X_train = X_train / 255.\n",
        "_,m_train = X_train.shape"
      ],
      "metadata": {
        "id": "j1vN2VhEB_vl"
      },
      "execution_count": 54,
      "outputs": []
    },
    {
      "cell_type": "markdown",
      "source": [
        "**Training Y Model**"
      ],
      "metadata": {
        "id": "aFMO30uLCBO6"
      }
    },
    {
      "cell_type": "code",
      "source": [
        "Y_train"
      ],
      "metadata": {
        "colab": {
          "base_uri": "https://localhost:8080/"
        },
        "id": "iX0VgeWTCDv6",
        "outputId": "0f04ff9b-1736-4c5e-daa7-9a7c20d5f383"
      },
      "execution_count": 55,
      "outputs": [
        {
          "output_type": "execute_result",
          "data": {
            "text/plain": [
              "array([7, 8, 6, ..., 1, 0, 1])"
            ]
          },
          "metadata": {},
          "execution_count": 55
        }
      ]
    },
    {
      "cell_type": "markdown",
      "source": [
        "**Neural Network**"
      ],
      "metadata": {
        "id": "NI0quHNxC0Xb"
      }
    },
    {
      "cell_type": "code",
      "source": [
        "def init_params():\n",
        "    W1 = np.random.rand(10, 784) - 0.5\n",
        "    b1 = np.random.rand(10, 1) - 0.5\n",
        "    W2 = np.random.rand(10, 10) - 0.5\n",
        "    b2 = np.random.rand(10, 1) - 0.5\n",
        "    return W1, b1, W2, b2\n",
        "\n",
        "def ReLU(Z):\n",
        "    return np.maximum(Z, 0)\n",
        "\n",
        "def softmax(Z):\n",
        "    A = np.exp(Z) / sum(np.exp(Z))\n",
        "    return A\n",
        "    \n",
        "def forward_prop(W1, b1, W2, b2, X):\n",
        "    Z1 = W1.dot(X) + b1\n",
        "    A1 = ReLU(Z1)\n",
        "    Z2 = W2.dot(A1) + b2\n",
        "    A2 = softmax(Z2)\n",
        "    return Z1, A1, Z2, A2\n",
        "\n",
        "def ReLU_deriv(Z):\n",
        "    return Z > 0\n",
        "\n",
        "def one_hot(Y):\n",
        "    one_hot_Y = np.zeros((Y.size, Y.max() + 1))\n",
        "    one_hot_Y[np.arange(Y.size), Y] = 1\n",
        "    one_hot_Y = one_hot_Y.T\n",
        "    return one_hot_Y\n",
        "\n",
        "def backward_prop(Z1, A1, Z2, A2, W1, W2, X, Y):\n",
        "    one_hot_Y = one_hot(Y)\n",
        "    dZ2 = A2 - one_hot_Y\n",
        "    dW2 = 1 / m * dZ2.dot(A1.T)\n",
        "    db2 = 1 / m * np.sum(dZ2)\n",
        "    dZ1 = W2.T.dot(dZ2) * ReLU_deriv(Z1)\n",
        "    dW1 = 1 / m * dZ1.dot(X.T)\n",
        "    db1 = 1 / m * np.sum(dZ1)\n",
        "    return dW1, db1, dW2, db2\n",
        "\n",
        "def update_params(W1, b1, W2, b2, dW1, db1, dW2, db2, alpha):\n",
        "    W1 = W1 - alpha * dW1\n",
        "    b1 = b1 - alpha * db1    \n",
        "    W2 = W2 - alpha * dW2  \n",
        "    b2 = b2 - alpha * db2    \n",
        "    return W1, b1, W2, b2"
      ],
      "metadata": {
        "id": "wOE1hULcCLuo"
      },
      "execution_count": 56,
      "outputs": []
    },
    {
      "cell_type": "code",
      "source": [
        "def get_predictions(A2):\n",
        "    return np.argmax(A2, 0)\n",
        "\n",
        "def get_accuracy(predictions, Y):\n",
        "    print(predictions, Y)\n",
        "    return np.sum(predictions == Y) / Y.size\n",
        "\n",
        "def gradient_descent(X, Y, alpha, iterations):\n",
        "    W1, b1, W2, b2 = init_params()\n",
        "    for i in range(iterations):\n",
        "        Z1, A1, Z2, A2 = forward_prop(W1, b1, W2, b2, X)\n",
        "        dW1, db1, dW2, db2 = backward_prop(Z1, A1, Z2, A2, W1, W2, X, Y)\n",
        "        W1, b1, W2, b2 = update_params(W1, b1, W2, b2, dW1, db1, dW2, db2, alpha)\n",
        "        if i % 10 == 0:\n",
        "            print(\"Iteration: \", i)\n",
        "            predictions = get_predictions(A2)\n",
        "            print(get_accuracy(predictions, Y))\n",
        "    return W1, b1, W2, b2"
      ],
      "metadata": {
        "id": "1ZdEPZf1CWBt"
      },
      "execution_count": 57,
      "outputs": []
    },
    {
      "cell_type": "code",
      "source": [
        "W1, b1, W2, b2 = gradient_descent(X_train, Y_train, 0.10, 500)\n"
      ],
      "metadata": {
        "colab": {
          "base_uri": "https://localhost:8080/"
        },
        "id": "zQCTFdUvGe3n",
        "outputId": "b3a05abc-e169-45e1-cb9f-ede8e9b40765"
      },
      "execution_count": 58,
      "outputs": [
        {
          "output_type": "stream",
          "name": "stdout",
          "text": [
            "Iteration:  0\n",
            "[5 5 5 ... 5 5 8] [7 8 6 ... 1 0 1]\n",
            "0.10339024390243902\n",
            "Iteration:  10\n",
            "[6 2 6 ... 1 0 8] [7 8 6 ... 1 0 1]\n",
            "0.24614634146341463\n",
            "Iteration:  20\n",
            "[6 3 4 ... 1 0 8] [7 8 6 ... 1 0 1]\n",
            "0.32158536585365854\n",
            "Iteration:  30\n",
            "[6 3 4 ... 1 0 8] [7 8 6 ... 1 0 1]\n",
            "0.37458536585365854\n",
            "Iteration:  40\n",
            "[6 3 4 ... 1 0 8] [7 8 6 ... 1 0 1]\n",
            "0.4182682926829268\n",
            "Iteration:  50\n",
            "[7 3 4 ... 1 0 8] [7 8 6 ... 1 0 1]\n",
            "0.4608536585365854\n",
            "Iteration:  60\n",
            "[7 3 4 ... 1 0 8] [7 8 6 ... 1 0 1]\n",
            "0.5059268292682927\n",
            "Iteration:  70\n",
            "[7 3 4 ... 1 0 8] [7 8 6 ... 1 0 1]\n",
            "0.544219512195122\n",
            "Iteration:  80\n",
            "[7 3 4 ... 1 0 8] [7 8 6 ... 1 0 1]\n",
            "0.5780975609756097\n",
            "Iteration:  90\n",
            "[7 3 4 ... 1 0 8] [7 8 6 ... 1 0 1]\n",
            "0.6053658536585366\n",
            "Iteration:  100\n",
            "[7 3 4 ... 1 0 8] [7 8 6 ... 1 0 1]\n",
            "0.6270487804878049\n",
            "Iteration:  110\n",
            "[7 8 4 ... 1 0 8] [7 8 6 ... 1 0 1]\n",
            "0.6475609756097561\n",
            "Iteration:  120\n",
            "[7 8 4 ... 1 0 8] [7 8 6 ... 1 0 1]\n",
            "0.6648780487804878\n",
            "Iteration:  130\n",
            "[7 8 4 ... 1 0 8] [7 8 6 ... 1 0 1]\n",
            "0.6805609756097561\n",
            "Iteration:  140\n",
            "[7 8 4 ... 1 0 8] [7 8 6 ... 1 0 1]\n",
            "0.6946585365853658\n",
            "Iteration:  150\n",
            "[7 8 4 ... 1 0 8] [7 8 6 ... 1 0 1]\n",
            "0.7066341463414634\n",
            "Iteration:  160\n",
            "[7 8 4 ... 1 0 8] [7 8 6 ... 1 0 1]\n",
            "0.717170731707317\n",
            "Iteration:  170\n",
            "[7 8 4 ... 1 0 8] [7 8 6 ... 1 0 1]\n",
            "0.7280243902439024\n",
            "Iteration:  180\n",
            "[7 8 4 ... 1 0 8] [7 8 6 ... 1 0 1]\n",
            "0.7365121951219512\n",
            "Iteration:  190\n",
            "[7 8 4 ... 1 0 1] [7 8 6 ... 1 0 1]\n",
            "0.7443170731707317\n",
            "Iteration:  200\n",
            "[7 8 4 ... 1 0 1] [7 8 6 ... 1 0 1]\n",
            "0.7515853658536585\n",
            "Iteration:  210\n",
            "[7 8 4 ... 1 0 1] [7 8 6 ... 1 0 1]\n",
            "0.7585609756097561\n",
            "Iteration:  220\n",
            "[7 8 6 ... 1 0 1] [7 8 6 ... 1 0 1]\n",
            "0.7646585365853659\n",
            "Iteration:  230\n",
            "[7 8 6 ... 1 0 1] [7 8 6 ... 1 0 1]\n",
            "0.7704634146341464\n",
            "Iteration:  240\n",
            "[7 8 6 ... 1 0 1] [7 8 6 ... 1 0 1]\n",
            "0.7756585365853659\n",
            "Iteration:  250\n",
            "[7 8 6 ... 1 0 1] [7 8 6 ... 1 0 1]\n",
            "0.7801463414634147\n",
            "Iteration:  260\n",
            "[7 8 6 ... 1 0 1] [7 8 6 ... 1 0 1]\n",
            "0.784390243902439\n",
            "Iteration:  270\n",
            "[7 8 6 ... 1 0 1] [7 8 6 ... 1 0 1]\n",
            "0.7887073170731708\n",
            "Iteration:  280\n",
            "[7 8 6 ... 1 0 1] [7 8 6 ... 1 0 1]\n",
            "0.7924390243902439\n",
            "Iteration:  290\n",
            "[7 8 6 ... 1 0 1] [7 8 6 ... 1 0 1]\n",
            "0.7962439024390244\n",
            "Iteration:  300\n",
            "[7 8 6 ... 1 0 1] [7 8 6 ... 1 0 1]\n",
            "0.7995121951219513\n",
            "Iteration:  310\n",
            "[7 8 6 ... 1 0 1] [7 8 6 ... 1 0 1]\n",
            "0.8032926829268293\n",
            "Iteration:  320\n",
            "[7 8 6 ... 1 0 1] [7 8 6 ... 1 0 1]\n",
            "0.8064146341463415\n",
            "Iteration:  330\n",
            "[7 8 6 ... 1 0 1] [7 8 6 ... 1 0 1]\n",
            "0.8092682926829269\n",
            "Iteration:  340\n",
            "[7 8 6 ... 1 0 1] [7 8 6 ... 1 0 1]\n",
            "0.8120243902439025\n",
            "Iteration:  350\n",
            "[7 8 6 ... 1 0 1] [7 8 6 ... 1 0 1]\n",
            "0.8148780487804878\n",
            "Iteration:  360\n",
            "[7 8 6 ... 1 0 1] [7 8 6 ... 1 0 1]\n",
            "0.8169268292682926\n",
            "Iteration:  370\n",
            "[7 8 6 ... 1 0 1] [7 8 6 ... 1 0 1]\n",
            "0.8193414634146341\n",
            "Iteration:  380\n",
            "[7 8 6 ... 1 0 1] [7 8 6 ... 1 0 1]\n",
            "0.8213658536585365\n",
            "Iteration:  390\n",
            "[7 8 6 ... 1 0 1] [7 8 6 ... 1 0 1]\n",
            "0.8234146341463414\n",
            "Iteration:  400\n",
            "[7 8 6 ... 1 0 1] [7 8 6 ... 1 0 1]\n",
            "0.8256829268292682\n",
            "Iteration:  410\n",
            "[7 8 6 ... 1 0 1] [7 8 6 ... 1 0 1]\n",
            "0.8278292682926829\n",
            "Iteration:  420\n",
            "[7 8 6 ... 1 0 1] [7 8 6 ... 1 0 1]\n",
            "0.8295609756097561\n",
            "Iteration:  430\n",
            "[7 8 6 ... 1 0 1] [7 8 6 ... 1 0 1]\n",
            "0.8315121951219512\n",
            "Iteration:  440\n",
            "[7 8 6 ... 1 0 1] [7 8 6 ... 1 0 1]\n",
            "0.8334634146341463\n",
            "Iteration:  450\n",
            "[7 8 6 ... 1 0 1] [7 8 6 ... 1 0 1]\n",
            "0.8355609756097561\n",
            "Iteration:  460\n",
            "[7 8 6 ... 1 0 1] [7 8 6 ... 1 0 1]\n",
            "0.8374146341463414\n",
            "Iteration:  470\n",
            "[7 8 6 ... 1 0 1] [7 8 6 ... 1 0 1]\n",
            "0.8389756097560975\n",
            "Iteration:  480\n",
            "[7 8 6 ... 1 0 1] [7 8 6 ... 1 0 1]\n",
            "0.8404878048780487\n",
            "Iteration:  490\n",
            "[7 8 6 ... 1 0 1] [7 8 6 ... 1 0 1]\n",
            "0.841780487804878\n"
          ]
        }
      ]
    },
    {
      "cell_type": "code",
      "source": [
        "def make_predictions(X, W1, b1, W2, b2):\n",
        "    _, _, _, A2 = forward_prop(W1, b1, W2, b2, X)\n",
        "    predictions = get_predictions(A2)\n",
        "    return predictions\n",
        "\n",
        "def test_prediction(index, W1, b1, W2, b2):\n",
        "    current_image = X_train[:, index, None]\n",
        "    prediction = make_predictions(X_train[:, index, None], W1, b1, W2, b2)\n",
        "    label = Y_train[index]\n",
        "    print(\"Prediction: \", prediction)\n",
        "    print(\"Label: \", label)\n",
        "    \n",
        "    current_image = current_image.reshape((28, 28)) * 255\n",
        "    plt.gray()\n",
        "    plt.imshow(current_image, interpolation='nearest')\n",
        "    plt.show()\n"
      ],
      "metadata": {
        "id": "DggxJXPlCZ0Q"
      },
      "execution_count": 59,
      "outputs": []
    },
    {
      "cell_type": "markdown",
      "source": [
        "**Taking Examples**"
      ],
      "metadata": {
        "id": "2PY4XMY4CnJI"
      }
    },
    {
      "cell_type": "code",
      "source": [
        "test_prediction(0, W1, b1, W2, b2)\n",
        "test_prediction(1, W1, b1, W2, b2)\n",
        "test_prediction(2, W1, b1, W2, b2)\n",
        "test_prediction(3, W1, b1, W2, b2)\n",
        "test_prediction(4, W1, b1, W2, b2)\n",
        "test_prediction(5, W1, b1, W2, b2)\n",
        "test_prediction(6, W1, b1, W2, b2)\n",
        "test_prediction(7, W1, b1, W2, b2)\n",
        "test_prediction(8, W1, b1, W2, b2)\n",
        "test_prediction(9, W1, b1, W2, b2)"
      ],
      "metadata": {
        "colab": {
          "base_uri": "https://localhost:8080/",
          "height": 1000
        },
        "id": "TV2AGai0Cp_I",
        "outputId": "aad34e26-14de-4fd4-efd5-b1f8bc37650b"
      },
      "execution_count": 60,
      "outputs": [
        {
          "output_type": "stream",
          "name": "stdout",
          "text": [
            "Prediction:  [7]\n",
            "Label:  7\n"
          ]
        },
        {
          "output_type": "display_data",
          "data": {
            "text/plain": [
              "<Figure size 432x288 with 1 Axes>"
            ],
            "image/png": "[encoded data removed]"
          },
          "metadata": {
            "needs_background": "light"
          }
        },
        {
          "output_type": "stream",
          "name": "stdout",
          "text": [
            "Prediction:  [8]\n",
            "Label:  8\n"
          ]
        },
        {
          "output_type": "display_data",
          "data": {
            "text/plain": [
              "<Figure size 432x288 with 1 Axes>"
            ],
            "image/png": "[encoded data removed]"
          },
          "metadata": {
            "needs_background": "light"
          }
        },
        {
          "output_type": "stream",
          "name": "stdout",
          "text": [
            "Prediction:  [6]\n",
            "Label:  6\n"
          ]
        },
        {
          "output_type": "display_data",
          "data": {
            "text/plain": [
              "<Figure size 432x288 with 1 Axes>"
            ],
            "image/png": "[encoded data removed]"
          },
          "metadata": {
            "needs_background": "light"
          }
        },
        {
          "output_type": "stream",
          "name": "stdout",
          "text": [
            "Prediction:  [9]\n",
            "Label:  9\n"
          ]
        },
        {
          "output_type": "display_data",
          "data": {
            "text/plain": [
              "<Figure size 432x288 with 1 Axes>"
            ],
            "image/png": "[encoded data removed]"
          },
          "metadata": {
            "needs_background": "light"
          }
        },
        {
          "output_type": "stream",
          "name": "stdout",
          "text": [
            "Prediction:  [4]\n",
            "Label:  4\n"
          ]
        },
        {
          "output_type": "display_data",
          "data": {
            "text/plain": [
              "<Figure size 432x288 with 1 Axes>"
            ],
            "image/png": "[encoded data removed]"
          },
          "metadata": {
            "needs_background": "light"
          }
        },
        {
          "output_type": "stream",
          "name": "stdout",
          "text": [
            "Prediction:  [5]\n",
            "Label:  5\n"
          ]
        },
        {
          "output_type": "display_data",
          "data": {
            "text/plain": [
              "<Figure size 432x288 with 1 Axes>"
            ],
            "image/png": "[encoded data removed]"
          },
          "metadata": {
            "needs_background": "light"
          }
        },
        {
          "output_type": "stream",
          "name": "stdout",
          "text": [
            "Prediction:  [8]\n",
            "Label:  8\n"
          ]
        },
        {
          "output_type": "display_data",
          "data": {
            "text/plain": [
              "<Figure size 432x288 with 1 Axes>"
            ],
            "image/png": "[encoded data removed]"
          },
          "metadata": {
            "needs_background": "light"
          }
        },
        {
          "output_type": "stream",
          "name": "stdout",
          "text": [
            "Prediction:  [5]\n",
            "Label:  5\n"
          ]
        },
        {
          "output_type": "display_data",
          "data": {
            "text/plain": [
              "<Figure size 432x288 with 1 Axes>"
            ],
            "image/png": "[encoded data removed]"
          },
          "metadata": {
            "needs_background": "light"
          }
        },
        {
          "output_type": "stream",
          "name": "stdout",
          "text": [
            "Prediction:  [5]\n",
            "Label:  5\n"
          ]
        },
        {
          "output_type": "display_data",
          "data": {
            "text/plain": [
              "<Figure size 432x288 with 1 Axes>"
            ],
            "image/png": "[encoded data removed]"
          },
          "metadata": {
            "needs_background": "light"
          }
        },
        {
          "output_type": "stream",
          "name": "stdout",
          "text": [
            "Prediction:  [0]\n",
            "Label:  0\n"
          ]
        },
        {
          "output_type": "display_data",
          "data": {
            "text/plain": [
              "<Figure size 432x288 with 1 Axes>"
            ],
            "image/png": "[encoded data removed]"
          },
          "metadata": {
            "needs_background": "light"
          }
        }
      ]
    },
    {
      "cell_type": "markdown",
      "source": [
        "**Accuracy**"
      ],
      "metadata": {
        "id": "LcghCe_jCuXL"
      }
    },
    {
      "cell_type": "code",
      "source": [
        "dev_predictions = (make_predictions(X_dev, W1, b1, W2, b2))\n",
        "get_accuracy(dev_predictions, Y_dev)"
      ],
      "metadata": {
        "colab": {
          "base_uri": "https://localhost:8080/"
        },
        "id": "qpOmRe7lCwKH",
        "outputId": "dadb5d63-e294-403c-e8a0-04e128b61cba"
      },
      "execution_count": 61,
      "outputs": [
        {
          "output_type": "stream",
          "name": "stdout",
          "text": [
            "[2 2 8 9 0 7 0 4 8 7 8 4 1 5 1 1 8 6 4 9 7 3 5 1 9 3 4 1 1 1 1 6 7 1 0 0 1\n",
            " 7 7 6 6 6 7 0 0 1 9 7 9 8 1 9 6 7 4 2 2 2 7 2 8 7 0 3 1 4 2 9 5 5 5 1 4 0\n",
            " 4 5 9 8 1 9 0 2 6 1 5 9 0 6 1 6 9 9 5 9 5 1 4 1 6 7 8 5 2 2 8 3 4 0 5 1 1\n",
            " 7 9 1 8 5 0 1 1 3 5 6 6 8 3 0 0 0 1 9 0 4 3 7 3 1 1 4 1 3 6 8 2 0 3 6 7 7\n",
            " 1 2 1 7 1 6 2 2 6 7 4 0 5 0 8 3 2 3 8 6 2 2 7 3 3 8 9 1 5 4 4 5 3 1 9 4 3\n",
            " 6 8 7 0 2 3 7 6 0 7 4 4 5 1 2 6 5 0 0 6 2 1 7 1 5 5 9 4 4 6 1 7 7 4 4 6 9\n",
            " 0 3 6 9 9 7 5 8 0 6 2 5 4 8 5 0 1 5 4 6 2 6 6 0 1 5 2 9 3 1 6 8 0 5 6 1 2\n",
            " 9 1 3 0 4 1 8 4 5 9 5 9 1 8 8 2 4 2 1 7 1 6 5 6 2 7 1 9 5 1 8 8 2 2 1 6 0\n",
            " 1 9 2 3 4 3 4 7 0 8 3 2 3 9 5 4 0 0 1 8 4 4 4 8 1 0 7 5 6 7 2 9 7 1 7 8 4\n",
            " 6 1 9 8 5 6 3 2 5 6 8 2 3 8 4 4 5 1 6 7 6 7 4 5 1 6 6 5 4 1 6 3 1 2 6 5 7\n",
            " 6 2 8 6 1 6 1 2 4 3 1 4 4 1 3 9 7 2 8 8 0 1 3 1 1 0 2 5 1 4 7 3 1 2 9 3 9\n",
            " 1 8 3 8 7 8 6 1 3 3 4 0 6 3 8 1 1 0 6 8 9 6 6 4 9 0 1 0 9 3 6 9 8 8 4 4 4\n",
            " 1 1 8 8 8 4 9 1 6 3 6 9 1 9 3 2 5 8 7 5 3 3 3 9 3 3 7 7 0 2 2 3 5 3 0 7 9\n",
            " 4 5 9 6 3 8 3 5 9 4 2 2 6 5 7 7 8 9 4 1 8 9 5 7 4 1 6 1 5 6 2 0 6 8 7 0 1\n",
            " 9 5 6 3 0 8 6 7 1 4 6 0 0 9 9 8 6 3 2 1 8 4 9 2 1 0 4 4 3 6 9 1 9 0 5 6 8\n",
            " 4 9 5 4 2 1 5 2 9 9 6 6 0 5 9 9 1 6 7 3 2 8 2 9 0 9 9 3 8 6 1 3 1 1 6 0 6\n",
            " 9 2 2 4 9 0 9 9 3 3 3 9 0 8 6 3 3 3 9 8 7 7 5 5 2 3 9 0 0 8 7 2 5 9 8 2 4\n",
            " 9 5 9 0 8 3 7 0 0 9 6 6 5 7 9 5 9 0 0 9 6 6 3 9 9 6 2 6 7 3 4 8 8 4 2 7 4\n",
            " 7 5 7 4 3 9 6 2 9 6 9 8 7 7 2 2 7 4 9 8 9 4 2 8 2 9 7 2 4 2 9 2 3 8 1 3 9\n",
            " 1 2 9 8 1 1 2 9 0 7 0 9 1 5 3 6 8 5 7 4 8 7 4 1 9 1 3 2 5 0 3 1 9 9 0 8 1\n",
            " 5 6 6 9 4 5 4 9 7 4 9 0 6 6 4 9 9 9 3 4 5 3 1 7 6 2 4 1 8 4 1 1 6 2 0 3 1\n",
            " 8 8 7 6 1 5 9 8 1 5 1 2 5 7 0 2 3 9 4 0 9 1 2 2 1 5 3 9 8 8 6 3 9 4 8 3 9\n",
            " 5 5 2 1 5 2 0 0 4 3 4 4 8 4 9 6 4 3 7 5 9 1 5 8 9 0 6 4 6 8 8 3 5 4 1 4 7\n",
            " 6 0 1 3 6 1 4 4 3 9 3 0 5 2 0 7 9 0 1 1 0 6 4 5 3 9 9 6 8 3 8 3 0 6 0 0 1\n",
            " 1 8 9 8 1 6 3 7 8 3 7 2 6 0 6 8 9 4 8 4 6 0 5 2 6 2 1 9 6 0 2 6 8 6 3 9 3\n",
            " 5 9 5 3 4 0 7 2 7 8 1 8 4 8 0 6 6 9 7 8 2 4 6 0 0 5 5 4 2 0 8 5 0 6 4 1 7\n",
            " 9 9 0 9 4 5 4 1 3 1 1 3 1 3 7 6 0 7 3 0 4 6 5 3 0 7 7 1 7 4 2 1 0 3 1 1 1\n",
            " 2] [2 2 8 4 0 7 0 4 8 5 8 4 1 5 1 1 8 6 4 9 7 3 3 1 9 3 4 3 1 1 1 6 7 1 0 0 1\n",
            " 7 7 6 6 6 7 0 0 1 8 7 9 8 1 9 6 7 4 2 2 2 7 2 8 7 0 3 1 9 2 9 5 0 2 1 2 0\n",
            " 4 5 9 8 1 9 0 2 6 2 5 9 0 6 1 6 7 9 3 4 5 1 4 1 6 7 8 5 2 6 5 3 4 0 5 1 1\n",
            " 7 9 1 8 5 0 1 1 3 5 6 6 9 3 0 0 0 1 9 0 4 3 7 3 1 1 4 1 3 6 4 2 0 2 6 7 7\n",
            " 1 2 1 7 1 6 4 2 6 7 4 0 5 0 8 3 2 3 8 6 2 5 7 3 3 8 9 1 3 4 4 5 3 1 9 4 3\n",
            " 6 8 7 6 6 3 7 6 0 7 8 6 8 1 2 6 5 0 0 6 2 8 7 7 5 3 9 9 9 6 1 4 3 4 4 6 9\n",
            " 0 0 6 5 9 7 3 8 0 6 2 3 4 8 3 6 1 8 4 6 2 4 6 0 1 5 2 7 3 1 2 8 0 5 6 1 2\n",
            " 9 1 3 0 7 1 5 2 5 9 5 9 1 3 8 2 4 2 1 7 1 2 5 6 2 7 1 9 5 1 8 8 2 2 3 6 0\n",
            " 1 4 2 3 4 3 5 7 0 8 3 9 3 9 5 4 0 0 1 8 4 4 4 8 1 0 7 3 6 7 2 9 7 1 7 8 4\n",
            " 6 1 9 8 5 2 3 5 5 6 8 2 8 8 4 4 5 1 6 7 6 7 4 5 1 4 3 5 4 1 6 3 1 2 6 4 7\n",
            " 5 2 8 6 1 6 1 2 4 3 1 4 4 1 3 9 7 2 8 8 0 1 3 1 1 0 2 5 1 4 7 3 5 2 9 3 8\n",
            " 8 3 3 8 7 8 6 1 3 3 4 0 6 3 9 1 1 0 6 8 9 6 6 4 9 0 1 2 9 3 6 9 9 8 4 4 4\n",
            " 8 1 5 8 8 4 9 1 6 3 6 9 1 9 3 2 5 8 7 5 3 3 3 9 3 3 7 7 0 2 2 3 5 3 0 7 9\n",
            " 9 5 4 6 7 8 3 5 9 4 2 2 6 5 7 7 8 9 9 1 8 9 5 7 4 1 0 1 5 6 2 0 0 2 7 0 1\n",
            " 9 5 6 3 0 8 6 7 1 4 6 0 0 9 9 8 6 5 2 1 8 4 9 8 1 0 4 4 3 6 9 8 9 0 5 6 8\n",
            " 4 9 5 4 2 1 5 2 9 9 6 6 0 5 3 9 1 6 7 3 2 8 2 7 0 9 4 3 8 6 1 3 1 1 6 0 6\n",
            " 9 2 2 4 9 0 9 4 3 3 3 9 0 3 6 2 3 8 9 8 7 7 5 5 5 3 9 5 0 8 9 5 5 9 8 2 4\n",
            " 9 5 9 0 8 3 5 0 0 9 6 5 5 7 8 5 9 0 0 9 6 6 3 9 9 6 2 6 7 3 2 8 5 3 2 7 4\n",
            " 7 2 7 4 3 9 6 2 9 6 9 8 7 7 2 2 7 4 9 5 9 4 3 3 3 9 7 2 4 2 9 2 3 8 1 3 8\n",
            " 1 2 9 3 1 1 5 7 7 7 0 9 2 5 3 6 8 3 7 4 8 2 9 1 8 1 3 2 3 0 3 1 9 9 0 8 1\n",
            " 5 6 6 9 4 5 6 3 7 4 9 0 6 3 9 9 9 9 3 4 5 3 1 9 6 2 4 1 8 4 1 1 2 2 0 8 1\n",
            " 8 8 7 6 1 5 9 8 5 5 1 3 5 0 0 2 3 9 5 0 9 1 2 2 1 8 3 9 8 9 6 3 9 9 8 8 9\n",
            " 5 5 2 1 8 7 0 0 4 3 4 7 8 4 9 6 4 3 7 5 9 5 5 8 9 7 6 4 6 8 8 3 5 4 1 4 7\n",
            " 6 0 1 3 6 1 4 4 3 8 3 0 5 3 0 7 7 0 1 1 0 6 4 5 3 9 9 6 8 3 8 3 0 6 0 0 1\n",
            " 1 8 7 8 1 2 3 7 8 3 7 2 6 0 6 8 9 4 3 4 6 0 5 7 6 2 1 7 4 0 2 6 8 6 2 9 1\n",
            " 6 9 5 3 4 0 7 2 7 8 1 2 4 8 0 6 6 9 7 8 2 4 6 0 0 5 5 9 2 0 8 5 0 6 4 1 7\n",
            " 9 3 0 9 4 5 4 8 3 1 1 5 1 3 7 6 0 7 7 3 4 6 5 3 0 9 7 1 7 4 2 1 5 1 1 1 1\n",
            " 2]\n"
          ]
        },
        {
          "output_type": "execute_result",
          "data": {
            "text/plain": [
              "0.846"
            ]
          },
          "metadata": {},
          "execution_count": 61
        }
      ]
    }
  ]
}